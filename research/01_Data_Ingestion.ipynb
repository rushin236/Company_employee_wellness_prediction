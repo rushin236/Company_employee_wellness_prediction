{
 "cells": [
  {
   "cell_type": "markdown",
   "metadata": {},
   "source": [
    "## Employee Wellness Pridiction\n",
    "\n",
    "### Problem Statement\n",
    "- This project is based on classification problem statement.\n",
    "- Where the organization has lost one of it's most important employee.\n",
    "- Now organization is conserned for the wellbeing of the other employees.\n",
    "\n",
    "### Goal \n",
    "- To predict the wellbeing of the employee.\n",
    "- Help organization in finding the employees in need.\n",
    "\n",
    "### Dataset\n",
    "\n",
    "These are the parameters provided by the company for prediction.\n",
    "- Variables and their meaning:\n",
    "    - Timestamp\n",
    "    - Age: age of the employee.\n",
    "    - Gender: Gender of the employee.\n",
    "    - Country: Country of the employee.\n",
    "    - state: If you live in the United States, which state or territory do you live in?\n",
    "    - self_employed: Are you self-employed?\n",
    "    - family_history: Do you have a family history of mental illness?\n",
    "    - treatment: Does he or she really needs treatment.\n",
    "    - work_interfere: If you have a mental health condition, do you feel that it interferes with your work?\n",
    "    - no_employees: How many employees does your company or organization have?\n",
    "    - remote_work: Do you work remotely (outside of an office) at least 50% of the time?\n",
    "    - tech_company: Is your employer primarily a tech company/organization?\n",
    "    - benefits: Does your employer provide mental health benefits?\n",
    "    - care_options: Do you know the options for mental health care your employer provides?\n",
    "    - wellness_program: Has your employer ever discussed mental health as part of an employee wellness program?\n",
    "    - seek_help: Does your employer provide resources to learn more about mental health issues and how to seek help?\n",
    "    - anonymity: Is your anonymity protected if you choose to take advantage of mental health or substance abuse treatment resources?\n",
    "    - leave: How easy is it for you to take medical leave for a mental health condition?\n",
    "    - mental_health_consequence: Do you think that discussing a mental health issue with your employer would have negative consequences?\n",
    "    - phys_health_consequence: Do you think that discussing a physical health issue with your employer would have negative consequences?\n",
    "    - coworkers: Would you be willing to discuss a mental health issue with your coworkers?\n",
    "    - supervisor: Would you be willing to discuss a mental health issue with your direct supervisor(s)?\n",
    "    - mental_health_interview: Would you bring up a mental health issue with a potential employer in an interview?\n",
    "    - phys_health_interview: Would you bring up a physical health issue with a potential employer in an interview?\n",
    "    - mental_vs_physical: Do you feel that your employer takes mental health as seriously as physical health?\n",
    "    - obs_consequence: Have you heard of or observed negative consequences for coworkers with mental health conditions in your workplace?\n",
    "    - comments: Any additional notes or comments."
   ]
  },
  {
   "cell_type": "markdown",
   "metadata": {},
   "source": [
    "### Data Collection\n",
    "\n",
    "- Data is to be found on website.\n",
    "- So we will download and store it localy first."
   ]
  },
  {
   "cell_type": "code",
   "execution_count": 1,
   "metadata": {},
   "outputs": [],
   "source": [
    "import os"
   ]
  },
  {
   "cell_type": "code",
   "execution_count": 2,
   "metadata": {},
   "outputs": [
    {
     "data": {
      "text/plain": [
       "'d:\\\\ML\\\\xyz_employee_welness\\\\research'"
      ]
     },
     "execution_count": 2,
     "metadata": {},
     "output_type": "execute_result"
    }
   ],
   "source": [
    "%pwd"
   ]
  },
  {
   "cell_type": "code",
   "execution_count": 3,
   "metadata": {},
   "outputs": [],
   "source": [
    "os.chdir(\"../\")"
   ]
  },
  {
   "cell_type": "code",
   "execution_count": 4,
   "metadata": {},
   "outputs": [
    {
     "data": {
      "text/plain": [
       "'d:\\\\ML\\\\xyz_employee_welness'"
      ]
     },
     "execution_count": 4,
     "metadata": {},
     "output_type": "execute_result"
    }
   ],
   "source": [
    "%pwd"
   ]
  },
  {
   "cell_type": "code",
   "execution_count": 5,
   "metadata": {},
   "outputs": [],
   "source": [
    "from dataclasses import dataclass\n",
    "from pathlib import Path"
   ]
  },
  {
   "cell_type": "code",
   "execution_count": 6,
   "metadata": {},
   "outputs": [],
   "source": [
    "@dataclass\n",
    "class DataIngestionConfig:\n",
    "    root_dir: Path\n",
    "    source_URL: list\n",
    "    data_dir: list"
   ]
  },
  {
   "cell_type": "code",
   "execution_count": 7,
   "metadata": {},
   "outputs": [],
   "source": [
    "from empWellness.constants import *\n",
    "from empWellness.utils.common import read_yaml, create_directries\n",
    "from empWellness.logging import logger\n",
    "import requests"
   ]
  },
  {
   "cell_type": "code",
   "execution_count": 8,
   "metadata": {},
   "outputs": [],
   "source": [
    "class ConfigurationManager:\n",
    "    def __init__(\n",
    "        self, config_filepath=CONFIG_FILE_PATH, params_filepath=PARAMS_FILE_PATH\n",
    "    ) -> None:\n",
    "        self.config = read_yaml(config_filepath)\n",
    "        self.params = read_yaml(params_filepath)\n",
    "\n",
    "        create_directries([self.config.artifacts_root])\n",
    "\n",
    "    def get_data_ingestion_config(self) -> DataIngestionConfig:\n",
    "        config = self.config.data_ingestion\n",
    "\n",
    "        data_ingestion_config = DataIngestionConfig(\n",
    "            root_dir=config.root_dir,\n",
    "            source_URL=config.source_URL,\n",
    "            data_dir=config.data_dir,\n",
    "        )\n",
    "\n",
    "        return data_ingestion_config"
   ]
  },
  {
   "cell_type": "code",
   "execution_count": 9,
   "metadata": {},
   "outputs": [],
   "source": [
    "class DataIngestion:\n",
    "    def __init__(self, config: DataIngestionConfig):\n",
    "        self.config = config\n",
    "\n",
    "    def ingest(self):\n",
    "        try:\n",
    "            logger.info(\"Ingestion started!\")\n",
    "\n",
    "            create_directries([self.config.root_dir])\n",
    "\n",
    "            file_name = [\"train.csv\", \"test.csv\", \"submission.csv\"]\n",
    "\n",
    "            for i in range(len(self.config.source_URL)):\n",
    "                file_path = os.path.join(self.config.root_dir, self.config.data_dir[i], file_name[i])\n",
    "                # print(file_path)\n",
    "\n",
    "                if not os.path.exists(file_path):\n",
    "                    file_dir = os.path.join(\n",
    "                        self.config.root_dir, self.config.data_dir[i]\n",
    "                    )\n",
    "                    create_directries([file_dir])\n",
    "                    logger.info(f\"created dirctory: {file_dir[i]} for {file_name[i]}\")\n",
    "\n",
    "                    response = requests.get(self.config.source_URL[i])\n",
    "                    raw_data = response.content.decode(\n",
    "                        encoding=\"utf-8\", errors=\"ignore\"\n",
    "                    )\n",
    "                    logger.info(f\"File: {file_name[i]} downloaded!\")\n",
    "\n",
    "                    with open(file_path, \"w\") as f:\n",
    "                        f.write(raw_data)\n",
    "                        logger.info(f\"File: {file_name[i]} saved to {file_dir[i]}\")\n",
    "                        \n",
    "                else:\n",
    "                    logger.info(f\"File: {file_name} already exists!\")\n",
    "\n",
    "        except Exception as e:\n",
    "            raise e"
   ]
  },
  {
   "cell_type": "code",
   "execution_count": 10,
   "metadata": {},
   "outputs": [],
   "source": [
    "try:\n",
    "    config = ConfigurationManager()\n",
    "    data_ingestion_config = config.get_data_ingestion_config()\n",
    "    data_ingestion = DataIngestion(data_ingestion_config)\n",
    "    data_ingestion.ingest()\n",
    "except Exception as e:\n",
    "    raise e"
   ]
  }
 ],
 "metadata": {
  "kernelspec": {
   "display_name": "Python 3",
   "language": "python",
   "name": "python3"
  },
  "language_info": {
   "codemirror_mode": {
    "name": "ipython",
    "version": 3
   },
   "file_extension": ".py",
   "mimetype": "text/x-python",
   "name": "python",
   "nbconvert_exporter": "python",
   "pygments_lexer": "ipython3",
   "version": "3.8.18"
  }
 },
 "nbformat": 4,
 "nbformat_minor": 2
}
