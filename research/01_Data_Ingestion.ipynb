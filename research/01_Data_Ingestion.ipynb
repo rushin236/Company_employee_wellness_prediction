{
 "cells": [
  {
   "cell_type": "markdown",
   "metadata": {},
   "source": [
    "### Data Collection\n",
    "\n",
    "- Data is to be found on website.\n",
    "- So we will download and store it localy first."
   ]
  },
  {
   "cell_type": "code",
   "execution_count": 1,
   "metadata": {},
   "outputs": [],
   "source": [
    "import os"
   ]
  },
  {
   "cell_type": "code",
   "execution_count": 2,
   "metadata": {},
   "outputs": [
    {
     "data": {
      "text/plain": [
       "'d:\\\\ML\\\\xyz_employee_welness\\\\research'"
      ]
     },
     "execution_count": 2,
     "metadata": {},
     "output_type": "execute_result"
    }
   ],
   "source": [
    "%pwd"
   ]
  },
  {
   "cell_type": "code",
   "execution_count": 3,
   "metadata": {},
   "outputs": [],
   "source": [
    "os.chdir(\"../\")"
   ]
  },
  {
   "cell_type": "code",
   "execution_count": 4,
   "metadata": {},
   "outputs": [
    {
     "data": {
      "text/plain": [
       "'d:\\\\ML\\\\xyz_employee_welness'"
      ]
     },
     "execution_count": 4,
     "metadata": {},
     "output_type": "execute_result"
    }
   ],
   "source": [
    "%pwd"
   ]
  },
  {
   "cell_type": "code",
   "execution_count": 5,
   "metadata": {},
   "outputs": [],
   "source": [
    "from dataclasses import dataclass\n",
    "from pathlib import Path"
   ]
  },
  {
   "cell_type": "code",
   "execution_count": 6,
   "metadata": {},
   "outputs": [],
   "source": [
    "@dataclass\n",
    "class DataIngestionConfig:\n",
    "    root_dir: Path\n",
    "    source_URL: list\n",
    "    data_dir: list"
   ]
  },
  {
   "cell_type": "code",
   "execution_count": 7,
   "metadata": {},
   "outputs": [],
   "source": [
    "from empWellness.constants import *\n",
    "from empWellness.utils.common import read_yaml, create_directries\n",
    "from empWellness.logging import logger\n",
    "import requests"
   ]
  },
  {
   "cell_type": "code",
   "execution_count": 8,
   "metadata": {},
   "outputs": [],
   "source": [
    "class ConfigurationManager:\n",
    "    def __init__(\n",
    "        self, config_filepath=CONFIG_FILE_PATH, params_filepath=PARAMS_FILE_PATH\n",
    "    ) -> None:\n",
    "        self.config = read_yaml(config_filepath)\n",
    "        self.params = read_yaml(params_filepath)\n",
    "\n",
    "        create_directries([self.config.artifacts_root])\n",
    "\n",
    "    def get_data_ingestion_config(self) -> DataIngestionConfig:\n",
    "        config = self.config.data_ingestion\n",
    "\n",
    "        data_ingestion_config = DataIngestionConfig(\n",
    "            root_dir=config.root_dir,\n",
    "            source_URL=config.source_URL,\n",
    "            data_dir=config.data_dir,\n",
    "        )\n",
    "\n",
    "        return data_ingestion_config"
   ]
  },
  {
   "cell_type": "code",
   "execution_count": 9,
   "metadata": {},
   "outputs": [],
   "source": [
    "class DataIngestion:\n",
    "    def __init__(self, config: DataIngestionConfig):\n",
    "        self.config = config\n",
    "\n",
    "    def ingest(self):\n",
    "        try:\n",
    "            logger.info(\"Ingestion started!\")\n",
    "\n",
    "            create_directries([self.config.root_dir])\n",
    "\n",
    "            file_name = [\"train.csv\", \"test.csv\", \"submission.csv\"]\n",
    "\n",
    "            for i in range(len(self.config.source_URL)):\n",
    "                file_path = os.path.join(self.config.root_dir, self.config.data_dir[i], file_name[i])\n",
    "                # print(file_path)\n",
    "\n",
    "                if not os.path.exists(file_path):\n",
    "                    file_dir = os.path.join(\n",
    "                        self.config.root_dir, self.config.data_dir[i]\n",
    "                    )\n",
    "                    create_directries([file_dir])\n",
    "                    logger.info(f\"created dirctory: {file_dir[i]} for {file_name[i]}\")\n",
    "\n",
    "                    response = requests.get(self.config.source_URL[i])\n",
    "                    raw_data = response.content.decode(\n",
    "                        encoding=\"utf-8\", errors=\"ignore\"\n",
    "                    )\n",
    "                    logger.info(f\"File: {file_name[i]} downloaded!\")\n",
    "\n",
    "                    with open(file_path, \"w\") as f:\n",
    "                        f.write(raw_data)\n",
    "                        logger.info(f\"File: {file_name[i]} saved to {file_dir[i]}\")\n",
    "                        \n",
    "                else:\n",
    "                    logger.info(f\"File: {file_name} already exists!\")\n",
    "\n",
    "        except Exception as e:\n",
    "            raise e"
   ]
  },
  {
   "cell_type": "code",
   "execution_count": 10,
   "metadata": {},
   "outputs": [],
   "source": [
    "try:\n",
    "    config = ConfigurationManager()\n",
    "    data_ingestion_config = config.get_data_ingestion_config()\n",
    "    data_ingestion = DataIngestion(data_ingestion_config)\n",
    "    data_ingestion.ingest()\n",
    "except Exception as e:\n",
    "    raise e"
   ]
  }
 ],
 "metadata": {
  "kernelspec": {
   "display_name": "Python 3",
   "language": "python",
   "name": "python3"
  },
  "language_info": {
   "codemirror_mode": {
    "name": "ipython",
    "version": 3
   },
   "file_extension": ".py",
   "mimetype": "text/x-python",
   "name": "python",
   "nbconvert_exporter": "python",
   "pygments_lexer": "ipython3",
   "version": "3.8.18"
  }
 },
 "nbformat": 4,
 "nbformat_minor": 2
}
