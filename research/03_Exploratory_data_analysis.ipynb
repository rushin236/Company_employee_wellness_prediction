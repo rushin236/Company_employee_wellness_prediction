{
 "cells": [
  {
   "cell_type": "markdown",
   "metadata": {},
   "source": [
    "## Employee Wellness Pridiction\n",
    "\n",
    "### Problem Statement\n",
    "- This project is based on classification problem statement.\n",
    "- Where the organization has lost one of it's most important employee.\n",
    "- Now organization is conserned for the wellbeing of the other employees.\n",
    "\n",
    "### Goal \n",
    "- To predict the wellbeing of the employee.\n",
    "- Help organization in finding the employees in need.\n",
    "\n",
    "### Dataset\n",
    "\n",
    "These are the parameters provided by the company for prediction.\n",
    "- Variables and their meaning:\n",
    "    - Timestamp\n",
    "    - Age: age of the employee.\n",
    "    - Gender: Gender of the employee.\n",
    "    - Country: Country of the employee.\n",
    "    - state: If you live in the United States, which state or territory do you live in?\n",
    "    - self_employed: Are you self-employed?\n",
    "    - family_history: Do you have a family history of mental illness?\n",
    "    - treatment: Does he or she really needs treatment.\n",
    "    - work_interfere: If you have a mental health condition, do you feel that it interferes with your work?\n",
    "    - no_employees: How many employees does your company or organization have?\n",
    "    - remote_work: Do you work remotely (outside of an office) at least 50% of the time?\n",
    "    - tech_company: Is your employer primarily a tech company/organization?\n",
    "    - benefits: Does your employer provide mental health benefits?\n",
    "    - care_options: Do you know the options for mental health care your employer provides?\n",
    "    - wellness_program: Has your employer ever discussed mental health as part of an employee wellness program?\n",
    "    - seek_help: Does your employer provide resources to learn more about mental health issues and how to seek help?\n",
    "    - anonymity: Is your anonymity protected if you choose to take advantage of mental health or substance abuse treatment resources?\n",
    "    - leave: How easy is it for you to take medical leave for a mental health condition?\n",
    "    - mental_health_consequence: Do you think that discussing a mental health issue with your employer would have negative consequences?\n",
    "    - phys_health_consequence: Do you think that discussing a physical health issue with your employer would have negative consequences?\n",
    "    - coworkers: Would you be willing to discuss a mental health issue with your coworkers?\n",
    "    - supervisor: Would you be willing to discuss a mental health issue with your direct supervisor(s)?\n",
    "    - mental_health_interview: Would you bring up a mental health issue with a potential employer in an interview?\n",
    "    - phys_health_interview: Would you bring up a physical health issue with a potential employer in an interview?\n",
    "    - mental_vs_physical: Do you feel that your employer takes mental health as seriously as physical health?\n",
    "    - obs_consequence: Have you heard of or observed negative consequences for coworkers with mental health conditions in your workplace?\n",
    "    - comments: Any additional notes or comments."
   ]
  },
  {
   "cell_type": "code",
   "execution_count": 2,
   "metadata": {},
   "outputs": [
    {
     "data": {
      "text/plain": [
       "'d:\\\\ML\\\\xyz_employee_welness\\\\research'"
      ]
     },
     "execution_count": 2,
     "metadata": {},
     "output_type": "execute_result"
    }
   ],
   "source": [
    "%pwd"
   ]
  },
  {
   "cell_type": "code",
   "execution_count": 3,
   "metadata": {},
   "outputs": [],
   "source": [
    "import os"
   ]
  },
  {
   "cell_type": "code",
   "execution_count": 4,
   "metadata": {},
   "outputs": [],
   "source": [
    "os.chdir(\"../\")"
   ]
  },
  {
   "cell_type": "code",
   "execution_count": 5,
   "metadata": {},
   "outputs": [
    {
     "data": {
      "text/plain": [
       "'d:\\\\ML\\\\xyz_employee_welness'"
      ]
     },
     "execution_count": 5,
     "metadata": {},
     "output_type": "execute_result"
    }
   ],
   "source": [
    "%pwd"
   ]
  },
  {
   "cell_type": "code",
   "execution_count": null,
   "metadata": {},
   "outputs": [],
   "source": []
  }
 ],
 "metadata": {
  "kernelspec": {
   "display_name": "Python 3",
   "language": "python",
   "name": "python3"
  },
  "language_info": {
   "codemirror_mode": {
    "name": "ipython",
    "version": 3
   },
   "file_extension": ".py",
   "mimetype": "text/x-python",
   "name": "python",
   "nbconvert_exporter": "python",
   "pygments_lexer": "ipython3",
   "version": "3.8.18"
  }
 },
 "nbformat": 4,
 "nbformat_minor": 2
}
